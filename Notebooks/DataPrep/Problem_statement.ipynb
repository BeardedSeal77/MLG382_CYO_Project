{
 "cells": [
  {
   "cell_type": "markdown",
   "id": "6c678571",
   "metadata": {},
   "source": [
    "# 🧾 Problem Statement:\n",
    "\n",
    "This is data is based on a dataset from kaggle that has been modified. Link to kaggle dataset: https://www.kaggle.com/datasets/bhanupratapbiswas/inventory-analysis-case-study\n",
    "\n",
    "### Optimizing Inventory Management for Tops Liquor Stores in South Africa\n",
    "\n",
    "Tops, a leading liquor retail chain in South Africa, operates across multiple store locations and carries a wide variety of alcoholic beverages. The brand seeks to optimize its inventory management system to enhance operational efficiency, reduce carrying costs, and ensure product availability across all of its stores.\n",
    "\n",
    "Currently, inventory data is scattered across various sources including purchase records, sales data, opening stock levels, and individual store information. However, the absence of a centralized, predictive system often results in **stockouts**, **overstocking**, and inefficient **reorder processes**—negatively impacting sales and increasing operational costs.\n",
    "\n",
    "The goal of this project is to develop a data-driven inventory management solution for Tops that:\n",
    "\n",
    "- Accurately forecasts a specific product demand (sales) at a specific store based on historical sales with the help of a XGboost machine learning model applied.\n",
    "- Accurately forecasts lead times of product orders so they know when to order new products.\n",
    "- Optimizes stock levels to avoid both overstocking and stockouts.\n",
    "\n",
    "Using available datasets on inventory, purchases, sales, and store locations, this system will help Tops make smarter inventory decisions and better align stock levels with customer demand.\n",
    "\n"
   ]
  }
 ],
 "metadata": {
  "language_info": {
   "name": "python"
  }
 },
 "nbformat": 4,
 "nbformat_minor": 5
}
