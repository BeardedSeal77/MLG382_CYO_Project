{
 "cells": [
  {
   "cell_type": "markdown",
   "id": "4c4c583b",
   "metadata": {},
   "source": [
    "# Load and clean data"
   ]
  },
  {
   "cell_type": "code",
   "execution_count": 2,
   "id": "d6ed4c15",
   "metadata": {},
   "outputs": [
    {
     "name": "stdout",
     "output_type": "stream",
     "text": [
      "Added to sys.path: c:\\Users\\edcul\\OneDrive\\Documents\\Work\\Modules\\Year 3\\MLG 382\\Project\\src\n"
     ]
    },
    {
     "ename": "ModuleNotFoundError",
     "evalue": "No module named 'data_prep'",
     "output_type": "error",
     "traceback": [
      "\u001b[31m---------------------------------------------------------------------------\u001b[39m",
      "\u001b[31mModuleNotFoundError\u001b[39m                       Traceback (most recent call last)",
      "\u001b[36mCell\u001b[39m\u001b[36m \u001b[39m\u001b[32mIn[2]\u001b[39m\u001b[32m, line 11\u001b[39m\n\u001b[32m      8\u001b[39m \u001b[38;5;28;01mfrom\u001b[39;00m\u001b[38;5;250m \u001b[39m\u001b[34;01mnotebook_utils\u001b[39;00m\u001b[38;5;250m \u001b[39m\u001b[38;5;28;01mimport\u001b[39;00m setup_src_path\n\u001b[32m      9\u001b[39m setup_src_path()\n\u001b[32m---> \u001b[39m\u001b[32m11\u001b[39m \u001b[38;5;28;01mfrom\u001b[39;00m\u001b[38;5;250m \u001b[39m\u001b[34;01mdata_prep\u001b[39;00m\u001b[34;01m.\u001b[39;00m\u001b[34;01mload_data\u001b[39;00m\u001b[38;5;250m \u001b[39m\u001b[38;5;28;01mimport\u001b[39;00m run_inventory_analysis\n\u001b[32m     13\u001b[39m dfs = run_inventory_analysis(download=\u001b[38;5;28;01mFalse\u001b[39;00m, process=\u001b[38;5;28;01mTrue\u001b[39;00m)\n\u001b[32m     15\u001b[39m \u001b[38;5;28;01mfor\u001b[39;00m name, df \u001b[38;5;129;01min\u001b[39;00m dfs.items():\n",
      "\u001b[31mModuleNotFoundError\u001b[39m: No module named 'data_prep'"
     ]
    }
   ],
   "source": [
    "import sys\n",
    "import os\n",
    "\n",
    "#notebook_utils is 1 folder up from this notebook\n",
    "sys.path.append(os.path.abspath('..'))\n",
    "\n",
    "# Add the src directory to the Python path using notebook_utils\n",
    "from notebook_utils import setup_src_path\n",
    "setup_src_path()\n",
    "\n",
    "from data_prep.load_data import run_inventory_analysis\n",
    "\n",
    "dfs = run_inventory_analysis(download=False, process=True)\n",
    "\n",
    "for name, df in dfs.items():\n",
    "    print(f\"== {name.upper()} ==\")\n",
    "    display(df.head())"
   ]
  }
 ],
 "metadata": {
  "kernelspec": {
   "display_name": "Python 3",
   "language": "python",
   "name": "python3"
  },
  "language_info": {
   "codemirror_mode": {
    "name": "ipython",
    "version": 3
   },
   "file_extension": ".py",
   "mimetype": "text/x-python",
   "name": "python",
   "nbconvert_exporter": "python",
   "pygments_lexer": "ipython3",
   "version": "3.11.9"
  }
 },
 "nbformat": 4,
 "nbformat_minor": 5
}
