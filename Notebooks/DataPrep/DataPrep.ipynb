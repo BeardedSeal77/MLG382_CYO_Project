{
 "cells": [
  {
   "cell_type": "markdown",
   "id": "53b61f28",
   "metadata": {},
   "source": [
    "I am going to produce the SalesLedger.csv here\n",
    "\n",
    "[Read what each table has](../../Data/Processed/tables.txt)"
   ]
  },
  {
   "cell_type": "markdown",
   "id": "85241a88",
   "metadata": {},
   "source": [
    "<div>\n",
    "  <img src=\"../../Documentation/image.png\" width=\"1000\">\n",
    "</div>"
   ]
  }
 ],
 "metadata": {
  "kernelspec": {
   "display_name": "Python 3",
   "language": "python",
   "name": "python3"
  },
  "language_info": {
   "codemirror_mode": {
    "name": "ipython",
    "version": 3
   },
   "file_extension": ".py",
   "mimetype": "text/x-python",
   "name": "python",
   "nbconvert_exporter": "python",
   "pygments_lexer": "ipython3",
   "version": "3.11.9"
  }
 },
 "nbformat": 4,
 "nbformat_minor": 5
}
