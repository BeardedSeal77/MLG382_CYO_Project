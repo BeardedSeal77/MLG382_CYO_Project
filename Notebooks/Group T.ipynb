{
 "cells": [
  {
   "cell_type": "code",
   "execution_count": null,
   "id": "b6912a0a",
   "metadata": {},
   "outputs": [
    {
     "data": {
      "text/plain": [
       "''"
      ]
     },
     "execution_count": 1,
     "metadata": {},
     "output_type": "execute_result"
    }
   ],
   "source": [
    "\"\"\"\n",
    "inventory-forecasting/\n",
    "│\n",
    "├── Data/\n",
    "│   ├── Raw/                        # Unaltered CSVs from Kaggle or other sources\n",
    "│ E ├── Processed/                  # Raw Data cleaned up ready for prepping process\n",
    "│ E ├── Prepped/                    # Feature-engineered data ready to go into per model datasets\n",
    "│ W └── Final/                      # Scaled, Normilized and Outlier Treated data ready for modeling Per-model datasets (e.g., sales.csv, lead_time.csv)\n",
    "│\n",
    "├── src/\n",
    "│   ├── DataPrep/\n",
    "│   │ E ├── data_load.py            # loads, cleans and exports CSV's and DataFrames\n",
    "│   │ E ├── data_prepping.py        # Feature Engineering and Dataframe Prepping\n",
    "│   │ W ├── data_final.py           # Dataframe Scaling, Normalizing and Outlier Treatment\n",
    "│   │\n",
    "│   ├── Models/\n",
    "│   │ T ├── train_lead_time_model.py\n",
    "│   │ W ├── train_sales_forecast_model.py\n",
    "│   │   └── utils.py                # Shared functions (e.g., model evaluation, save artifacts)\n",
    "│\n",
    "├─E WebApp/\n",
    "│   ├── app.py                      # Dash app entry point\n",
    "│   ├── callbacks.py                # Dash callbacks\n",
    "│   ├── layout.py                   # Page layout with plots, controls\n",
    "│   └── assets/                     # CSS, images, logo\n",
    "│\n",
    "├── Artifacts/ -all outputs of respective models\n",
    "│   ├── Models/\n",
    "│   │   ├── lead_time_model.pkl\n",
    "│   │   └── sales_model.pkl\n",
    "│   ├── Plots/\n",
    "│   │   └── feature_importance.png\n",
    "│   └── Predictions/\n",
    "│       ├── sales_preds.csv\n",
    "│       └── lead_time_preds.csv\n",
    "│\n",
    "├── Notebooks/\n",
    "│ E ├── Group_T.ipynb               # Main Notebook for group work\n",
    "│TW ├── modeling.ipynb              # Implementing the sales and lead time models\n",
    "│   └── DataPrep/\n",
    "│    E  ├── DataLoad.ipynb          # Implements data_load.py\n",
    "│    W  ├── DataUnderstanding.ipynb # Provides understanding of the Processed Data, includes EDA\n",
    "│    E  ├── DataPrep.ipynb          # Implements data_prepping.py\n",
    "│    W  └── Datafinal.ipynb         # Implements data_final.py\n",
    "│\n",
    "├── requirements.txt                # Python dependencies (Render will use this)\n",
    "├── runtime.txt                     # Optional: Python version for Render\n",
    "└── README.md\n",
    "\"\"\""
   ]
  }
 ],
 "metadata": {
  "kernelspec": {
   "display_name": "Python 3",
   "language": "python",
   "name": "python3"
  },
  "language_info": {
   "codemirror_mode": {
    "name": "ipython",
    "version": 3
   },
   "file_extension": ".py",
   "mimetype": "text/x-python",
   "name": "python",
   "nbconvert_exporter": "python",
   "pygments_lexer": "ipython3",
   "version": "3.11.9"
  }
 },
 "nbformat": 4,
 "nbformat_minor": 5
}
