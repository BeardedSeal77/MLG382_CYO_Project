{
 "cells": [
  {
   "cell_type": "code",
   "execution_count": null,
   "id": "b6912a0a",
   "metadata": {},
   "outputs": [
    {
     "data": {
      "text/plain": [
       "''"
      ]
     },
     "execution_count": 1,
     "metadata": {},
     "output_type": "execute_result"
    }
   ],
   "source": [
    "\"\"\"\n",
    "inventory-forecasting/\n",
    "│\n",
    "├── data/\n",
    "│   ├── raw/                  # Unaltered CSVs from Kaggle or other sources\n",
    "│   ├── processed/            # Feature-engineered data ready for modeling\n",
    "│   └── final/                # Per-model datasets (e.g., sales.csv, lead_time.csv)\n",
    "│\n",
    "├── src/\n",
    "│   ├── data_prep/\n",
    "│   │   ├── load_data.py      # For reading & validating input CSVs\n",
    "│   │   ├── clean_data.py     # Fixes missing values, types, etc.\n",
    "│   │   └── engineer_features.py  # Adds features like lead time, lag sales, etc.\n",
    "│   │\n",
    "│   ├── models/\n",
    "│   │   ├── train_lead_time_model.py\n",
    "│   │   ├── train_sales_forecast_model.py\n",
    "│   │   └── utils.py          # Shared functions (e.g., model evaluation, save artifacts)\n",
    "│\n",
    "├── webapp/\n",
    "│   ├── app.py                # Dash app entry point\n",
    "│   ├── callbacks.py          # Dash callbacks\n",
    "│   ├── layout.py             # Page layout with plots, controls\n",
    "│   └── assets/               # CSS, images, logo\n",
    "│\n",
    "├── artifacts/\n",
    "│   ├── models/\n",
    "│   │   ├── lead_time_model.pkl\n",
    "│   │   └── sales_model.pkl\n",
    "│   ├── plots/\n",
    "│   │   └── feature_importance.png\n",
    "│   └── predictions/\n",
    "│       ├── sales_preds.csv\n",
    "│       └── lead_time_preds.csv\n",
    "│\n",
    "├── notebooks/\n",
    "│   ├── EDA.ipynb             # Exploratory data analysis\n",
    "│   ├── modeling.ipynb        # Testing ML model logic\n",
    "│   └── app_preview.ipynb     # Design/testing of app output before deployment\n",
    "│\n",
    "├── requirements.txt          # Python dependencies (Render will use this)\n",
    "├── runtime.txt               # Optional: Python version for Render\n",
    "└── README.md\n",
    "\"\"\""
   ]
  }
 ],
 "metadata": {
  "kernelspec": {
   "display_name": "Python 3",
   "language": "python",
   "name": "python3"
  },
  "language_info": {
   "codemirror_mode": {
    "name": "ipython",
    "version": 3
   },
   "file_extension": ".py",
   "mimetype": "text/x-python",
   "name": "python",
   "nbconvert_exporter": "python",
   "pygments_lexer": "ipython3",
   "version": "3.11.9"
  }
 },
 "nbformat": 4,
 "nbformat_minor": 5
}
